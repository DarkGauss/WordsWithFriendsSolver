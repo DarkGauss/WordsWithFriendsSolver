{
 "cells": [
  {
   "cell_type": "code",
   "execution_count": 5,
   "metadata": {},
   "outputs": [],
   "source": [
    "import time\n",
    "\n",
    "class mtimer:\n",
    "    def __init__(self):\n",
    "        self.timec = 0\n",
    "        \n",
    "    def __enter__(self):\n",
    "        self.timec = time.time()\n",
    "        return self\n",
    "        \n",
    "    def __exit__(self, exc_type, exc_val, exc_tb):\n",
    "        self.timec = time.time() - self.timec\n",
    "        print(\"{} secconds have elapsed.\".format(self.timec))\n"
   ]
  },
  {
   "cell_type": "code",
   "execution_count": 6,
   "metadata": {},
   "outputs": [],
   "source": [
    "word_dict = {}\n",
    "#sorts word into ascialphebetical order\n",
    "def sortString(word):\n",
    "    return \"\".join(sorted(list(word)))\n",
    "\n",
    "#acceses dict using sorted words, allways returns a list\n",
    "def accessDict(word):\n",
    "    return word_dict.get(sortString(word.upper()), [])\n",
    "\n"
   ]
  },
  {
   "cell_type": "code",
   "execution_count": 7,
   "metadata": {},
   "outputs": [],
   "source": [
    "#trys every combination of a set of letters\n",
    "def everyWord(letters):\n",
    "    combinations = [[]]\n",
    "    combination_set = set()\n",
    "    result = []\n",
    "    letters = sorted(list(letters.upper()))\n",
    "    \n",
    "    #form a powerset\n",
    "    for letter in letters:\n",
    "        combinations.extend([sub_list + [letter] for sub_list in combinations])\n",
    "    \n",
    "    #remove the empty list\n",
    "    combinations.remove([])\n",
    "    \n",
    "    #remove duplicate combinations\n",
    "    for combination in combinations:\n",
    "        combination_set.add(sortString(\"\".join(combination)))\n",
    "    for word in combination_set:\n",
    "        if word in word_dict:\n",
    "            result.extend(word_dict[word])\n",
    "    return result"
   ]
  },
  {
   "cell_type": "code",
   "execution_count": 8,
   "metadata": {},
   "outputs": [],
   "source": [
    "#fill up dictornary with values from file, stored according to sorted version\n",
    "with open(\"dict.txt\") as word_file:\n",
    "    for word in word_file:\n",
    "        word = word.strip('\\n')\n",
    "        word_dict.setdefault(sortString(word.upper()),[]).append(word.upper())"
   ]
  },
  {
   "cell_type": "code",
   "execution_count": 9,
   "metadata": {},
   "outputs": [
    {
     "data": {
      "text/plain": [
       "['ACTA']"
      ]
     },
     "execution_count": 9,
     "metadata": {},
     "output_type": "execute_result"
    }
   ],
   "source": [
    "accessDict(\"ACTA\")"
   ]
  },
  {
   "cell_type": "code",
   "execution_count": 10,
   "metadata": {},
   "outputs": [
    {
     "name": "stdout",
     "output_type": "stream",
     "text": [
      "NAH\n",
      "BAN\n",
      "NAB\n",
      "HEN\n",
      "BEN\n",
      "NEB\n",
      "ANE\n",
      "NAE\n",
      "EN\n",
      "NE\n",
      "ENS\n",
      "SEN\n",
      "AN\n",
      "NA\n"
     ]
    }
   ],
   "source": [
    "for word in everyWord(\"sehabn\"):\n",
    "    if len(word) < 4 and 'N' in word:\n",
    "        print(word)"
   ]
  },
  {
   "cell_type": "code",
   "execution_count": 11,
   "metadata": {},
   "outputs": [],
   "source": [
    "def checkLast(letters, last):\n",
    "    results = []\n",
    "    for word in everyWord(letters + last):\n",
    "        if word[-1] == last.upper():\n",
    "            results.append(word)\n",
    "    return results\n",
    "\n",
    "def checkFirst(letters, first):\n",
    "    results = []\n",
    "    for word in everyWord(letters + last):\n",
    "        if word[0] == last.upper():\n",
    "            results.append(word)\n",
    "    return results\n",
    "    "
   ]
  },
  {
   "cell_type": "code",
   "execution_count": 12,
   "metadata": {},
   "outputs": [
    {
     "name": "stdout",
     "output_type": "stream",
     "text": [
      "0.0 secconds have elapsed.\n"
     ]
    }
   ],
   "source": [
    "with mtimer():\n",
    "    checkLast(\"seabh\", \"f\")"
   ]
  },
  {
   "cell_type": "code",
   "execution_count": 25,
   "metadata": {},
   "outputs": [
    {
     "name": "stdout",
     "output_type": "stream",
     "text": [
      "e:\n",
      "\tBESEEM\n",
      "\tBEVIES\n",
      "\tBEE\n",
      "\tEMES\n",
      "\tSEEM\n",
      "\tSEME\n",
      "\tEME\n",
      "\tEVES\n",
      "\tVEES\n",
      "\tES\n",
      "\tBEES\n",
      "\tMISE\n",
      "\tSEMI\n",
      "\tSIEVE\n",
      "\tEMS\n",
      "\tEVE\n",
      "\tVEE\n",
      "\tVIBES\n",
      "\tBISE\n",
      "\tBEEVES\n",
      "\tSEI\n",
      "\tBE\n",
      "\tEM\n",
      "\tME\n",
      "\tVIE\n",
      "\tSEE\n",
      "\tVIES\n",
      "\tVISE\n",
      "\tVIBE\n",
      "n:\n",
      "\tNEVI\n",
      "\tVEIN\n",
      "\tVINE\n",
      "\tNEEM\n",
      "\tBINES\n",
      "\tNIM\n",
      "\tESNE\n",
      "\tSEEN\n",
      "\tSENE\n",
      "\tMIENS\n",
      "\tMINES\n",
      "\tINS\n",
      "\tSIN\n",
      "\tMIEN\n",
      "\tMINE\n",
      "\tSINE\n",
      "\tMEN\n",
      "\tBINE\n",
      "\tVEINS\n",
      "\tVINES\n",
      "\tBINS\n",
      "\tNIBS\n",
      "\tSNIB\n",
      "\tBIN\n",
      "\tNIB\n",
      "\tEVEN\n",
      "\tNEVE\n",
      "\tIN\n",
      "\tVIMEN\n",
      "\tENVIES\n",
      "\tNIEVES\n",
      "\tBEEN\n",
      "\tBENE\n",
      "\tEVENS\n",
      "\tNEVES\n",
      "\tSEVEN\n",
      "\tNEE\n",
      "\tEN\n",
      "\tNE\n",
      "\tMENSE\n",
      "\tMESNE\n",
      "\tNEEMS\n",
      "\tSEMEN\n",
      "\tSEINE\n",
      "\tBENES\n",
      "\tBEN\n",
      "\tNEB\n",
      "\tNIEVE\n",
      "\tBENS\n",
      "\tNEBS\n",
      "\tNIMS\n",
      "\tENS\n",
      "\tSEN\n",
      "o:\n",
      "\tVOES\n",
      "\tBIOS\n",
      "\tOBIS\n",
      "\tMOVIES\n",
      "\tOS\n",
      "\tSO\n",
      "\tMOS\n",
      "\tOMS\n",
      "\tBO\n",
      "\tOI\n",
      "\tOBES\n",
      "\tBIOMES\n",
      "\tMISO\n",
      "\tBIOME\n",
      "\tMOVE\n",
      "\tMOVIE\n",
      "\tOBE\n",
      "\tBESOM\n",
      "\tBOS\n",
      "\tSOB\n",
      "\tOE\n",
      "\tMOB\n",
      "\tMOVES\n",
      "\tMOBS\n",
      "\tOBESE\n",
      "\tSOME\n",
      "\tVOE\n",
      "\tOES\n",
      "\tOSE\n",
      "\tBIO\n",
      "\tOBI\n",
      "\tMO\n",
      "\tOM\n",
      "u:\n",
      "\tUS\n",
      "\tBUS\n",
      "\tSUB\n",
      "\tSUE\n",
      "\tUSE\n",
      "\tMUS\n",
      "\tSUM\n",
      "\tEMU\n",
      "\tBUMS\n",
      "\tSEBUM\n",
      "\tEMUS\n",
      "\tMUSE\n",
      "\tIMBUES\n",
      "\tBUM\n",
      "\tEMEU\n",
      "\tMU\n",
      "\tUM\n",
      "\tIMBUE\n",
      "\tBEMUSE\n",
      "\tEMEUS\n"
     ]
    }
   ],
   "source": [
    "for letter in \"enou\":\n",
    "    print(\"{}:\".format(letter))\n",
    "    words = everyWord(\"vieesmb\"+letter)\n",
    "    for word in words:\n",
    "        if letter.upper() in word:\n",
    "            print(\"\\t{}\".format(word))"
   ]
  },
  {
   "cell_type": "code",
   "execution_count": 19,
   "metadata": {},
   "outputs": [
    {
     "data": {
      "text/plain": [
       "True"
      ]
     },
     "execution_count": 19,
     "metadata": {},
     "output_type": "execute_result"
    }
   ],
   "source": [
    "\"a\" in \"abc\""
   ]
  },
  {
   "cell_type": "code",
   "execution_count": null,
   "metadata": {},
   "outputs": [],
   "source": []
  }
 ],
 "metadata": {
  "kernelspec": {
   "display_name": "Python 3",
   "language": "python",
   "name": "python3"
  },
  "language_info": {
   "codemirror_mode": {
    "name": "ipython",
    "version": 3
   },
   "file_extension": ".py",
   "mimetype": "text/x-python",
   "name": "python",
   "nbconvert_exporter": "python",
   "pygments_lexer": "ipython3",
   "version": "3.6.5"
  }
 },
 "nbformat": 4,
 "nbformat_minor": 2
}
